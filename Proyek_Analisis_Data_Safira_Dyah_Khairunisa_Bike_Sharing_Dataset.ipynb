{
  "cells": [
    {
      "cell_type": "markdown",
      "metadata": {
        "id": "H9wADwK78DCz"
      },
      "source": [
        "# Proyek Analisis Data: Bike Sharing Dataset\n",
        "- **Nama:** Safira Dyah Khairunisa\n",
        "- **Email:** safira.dyh@gmail.com\n",
        "- **ID Dicoding:** safiradyh"
      ]
    },
    {
      "cell_type": "markdown",
      "metadata": {
        "id": "eE0raob58DC0"
      },
      "source": [
        "## Menentukan Pertanyaan Bisnis"
      ]
    },
    {
      "cell_type": "markdown",
      "metadata": {
        "id": "GmQeQ5YF8DC0"
      },
      "source": [
        "- Pertanyaan 1 \\\\\n",
        "How does the weather affect bike rental?\n",
        "- Pertanyaan 2 \\\\\n",
        "How does the performance of bike rental in the last few months?"
      ]
    },
    {
      "cell_type": "markdown",
      "metadata": {
        "id": "H-z4QGlO8DC1"
      },
      "source": [
        "## Import Semua Packages/Library yang Digunakan"
      ]
    },
    {
      "cell_type": "code",
      "execution_count": null,
      "metadata": {
        "id": "FVYwaObI8DC1"
      },
      "outputs": [],
      "source": [
        "#import semua library yang dibutuhkan\n",
        "import numpy as np\n",
        "import pandas as pd\n",
        "import matplotlib.pyplot as plt\n",
        "import seaborn as sns"
      ]
    },
    {
      "cell_type": "code",
      "source": [
        "#install streamlit\n",
        "pip install streamlit"
      ],
      "metadata": {
        "id": "AZ_xvTrTz32Z"
      },
      "execution_count": null,
      "outputs": []
    },
    {
      "cell_type": "code",
      "source": [
        "%%writefile app.py"
      ],
      "metadata": {
        "id": "jC0BCSE6z8zr"
      },
      "execution_count": null,
      "outputs": []
    },
    {
      "cell_type": "code",
      "source": [
        "! wget -q -O - ipv4.icanhazip.com"
      ],
      "metadata": {
        "id": "01ZCCk0lz_Ts"
      },
      "execution_count": null,
      "outputs": []
    },
    {
      "cell_type": "code",
      "source": [
        "#url streamlit yang akan digunakan\n",
        "! streamlit run app.py & npx localtunnel --port 8501"
      ],
      "metadata": {
        "colab": {
          "base_uri": "https://localhost:8080/"
        },
        "id": "GTsxXdxSz_YP",
        "outputId": "b2a83ed0-8fd3-4eee-82e9-ca44510d66f3"
      },
      "execution_count": null,
      "outputs": [
        {
          "output_type": "stream",
          "name": "stdout",
          "text": [
            "[##................] - fetchMetadata: sill resolveWithNewModule ms@2.1.2 checki\u001b[0m\u001b[K\n",
            "Collecting usage statistics. To deactivate, set browser.gatherUsageStats to False.\n",
            "\u001b[0m\n",
            "\u001b[0m\n",
            "\u001b[34m\u001b[1m  You can now view your Streamlit app in your browser.\u001b[0m\n",
            "\u001b[0m\n",
            "\u001b[34m  Network URL: \u001b[0m\u001b[1mhttp://172.28.0.12:8501\u001b[0m\n",
            "\u001b[34m  External URL: \u001b[0m\u001b[1mhttp://34.106.202.6:8501\u001b[0m\n",
            "\u001b[0m\n",
            "\u001b[K\u001b[?25hnpx: installed 22 in 2.785s\n",
            "your url is: https://khaki-masks-dance.loca.lt\n",
            "2024-03-04 23:56:42.860 Uncaught app exception\n",
            "Traceback (most recent call last):\n",
            "  File \"/usr/local/lib/python3.10/dist-packages/streamlit/runtime/scriptrunner/script_runner.py\", line 535, in _run_script\n",
            "    exec(code, module.__dict__)\n",
            "  File \"/content/app.py\", line 41, in <module>\n",
            "    bike_df = pd.read_csv(\"bike_df.csv\")\n",
            "  File \"/usr/local/lib/python3.10/dist-packages/pandas/util/_decorators.py\", line 211, in wrapper\n",
            "    return func(*args, **kwargs)\n",
            "  File \"/usr/local/lib/python3.10/dist-packages/pandas/util/_decorators.py\", line 331, in wrapper\n",
            "    return func(*args, **kwargs)\n",
            "  File \"/usr/local/lib/python3.10/dist-packages/pandas/io/parsers/readers.py\", line 950, in read_csv\n",
            "    return _read(filepath_or_buffer, kwds)\n",
            "  File \"/usr/local/lib/python3.10/dist-packages/pandas/io/parsers/readers.py\", line 605, in _read\n",
            "    parser = TextFileReader(filepath_or_buffer, **kwds)\n",
            "  File \"/usr/local/lib/python3.10/dist-packages/pandas/io/parsers/readers.py\", line 1442, in __init__\n",
            "    self._engine = self._make_engine(f, self.engine)\n",
            "  File \"/usr/local/lib/python3.10/dist-packages/pandas/io/parsers/readers.py\", line 1735, in _make_engine\n",
            "    self.handles = get_handle(\n",
            "  File \"/usr/local/lib/python3.10/dist-packages/pandas/io/common.py\", line 856, in get_handle\n",
            "    handle = open(\n",
            "FileNotFoundError: [Errno 2] No such file or directory: 'bike_df.csv'\n",
            "2024-03-05 00:29:41.871 Uncaught app exception\n",
            "Traceback (most recent call last):\n",
            "  File \"/usr/local/lib/python3.10/dist-packages/streamlit/runtime/scriptrunner/script_runner.py\", line 535, in _run_script\n",
            "    exec(code, module.__dict__)\n",
            "  File \"/content/app.py\", line 48, in <module>\n",
            "    min_date = all_df[\"dteday\"].min()\n",
            "NameError: name 'all_df' is not defined\n",
            "2024-03-05 00:30:16.053 Uncaught app exception\n",
            "Traceback (most recent call last):\n",
            "  File \"/usr/local/lib/python3.10/dist-packages/streamlit/runtime/scriptrunner/script_runner.py\", line 535, in _run_script\n",
            "    exec(code, module.__dict__)\n",
            "  File \"/content/app.py\", line 97, in <module>\n",
            "    with col1:\n",
            "AttributeError: __enter__\n",
            "2024-03-05 00:40:03.909 Uncaught app exception\n",
            "Traceback (most recent call last):\n",
            "  File \"/usr/local/lib/python3.10/dist-packages/streamlit/runtime/scriptrunner/script_runner.py\", line 535, in _run_script\n",
            "    exec(code, module.__dict__)\n",
            "  File \"/content/app.py\", line 56, in <module>\n",
            "    start_date, end_date = st.date_input(\n",
            "ValueError: not enough values to unpack (expected 2, got 1)\n"
          ]
        }
      ]
    },
    {
      "cell_type": "markdown",
      "metadata": {
        "id": "h_Sh51Xy8DC1"
      },
      "source": [
        "## Data Wrangling"
      ]
    },
    {
      "cell_type": "markdown",
      "metadata": {
        "id": "sXU2GBYu8DC1"
      },
      "source": [
        "### Gathering Data"
      ]
    },
    {
      "cell_type": "code",
      "execution_count": null,
      "metadata": {
        "id": "zjCBk1BI8DC1"
      },
      "outputs": [],
      "source": [
        "#menampilkan data by day\n",
        "day_df = pd.read_csv(\"day.csv\", delimiter=\",\")\n",
        "day_df.head()"
      ]
    },
    {
      "cell_type": "code",
      "source": [
        "#menampilkan data by hour\n",
        "hour_df = pd.read_csv(\"hour.csv\", delimiter=\",\")\n",
        "hour_df.head()"
      ],
      "metadata": {
        "id": "yAfN6GZizC6p"
      },
      "execution_count": null,
      "outputs": []
    },
    {
      "cell_type": "code",
      "source": [
        "#merging data\n",
        "bike_df = pd.merge(\n",
        "    left=day_df,\n",
        "    right=hour_df,\n",
        "    how=\"left\",\n",
        "    suffixes=('_daily','_hourly'),\n",
        "    left_on=\"dteday\",\n",
        "    right_on=\"dteday\"\n",
        ")\n",
        "\n",
        "bike_df.head()"
      ],
      "metadata": {
        "id": "fJRGqgA0ZP9f"
      },
      "execution_count": null,
      "outputs": []
    },
    {
      "cell_type": "code",
      "source": [
        "bike_df.cnt_daily"
      ],
      "metadata": {
        "id": "TkaXRrZzZZHB"
      },
      "execution_count": null,
      "outputs": []
    },
    {
      "cell_type": "markdown",
      "source": [
        "Karena **cnt_daily** mengisi kolom kosong dengan value yang sama dengan tanggalnya. Jadi, untuk perhitungan jumlah peminjaman, akan digunakan **cnt_hourly** untuk menghindari kesalahan perhitungan."
      ],
      "metadata": {
        "id": "mUrD4xWSZkd_"
      }
    },
    {
      "cell_type": "markdown",
      "metadata": {
        "id": "FHSiqaZp8DC1"
      },
      "source": [
        "### Assessing Data"
      ]
    },
    {
      "cell_type": "code",
      "source": [
        "bike_df.info()"
      ],
      "metadata": {
        "id": "VNSEwGqzzp0M"
      },
      "execution_count": null,
      "outputs": []
    },
    {
      "cell_type": "markdown",
      "source": [
        "Terdapat kesalahan jenis data pada dteday yang seharusnya datetime"
      ],
      "metadata": {
        "id": "vmy_giMXdIKr"
      }
    },
    {
      "cell_type": "code",
      "source": [
        "bike_df.isnull().sum()"
      ],
      "metadata": {
        "id": "ax-3tEjc9Cj1"
      },
      "execution_count": null,
      "outputs": []
    },
    {
      "cell_type": "code",
      "source": [
        "bike_df.describe()"
      ],
      "metadata": {
        "id": "7ohX4cSd0PVx"
      },
      "execution_count": null,
      "outputs": []
    },
    {
      "cell_type": "markdown",
      "metadata": {
        "id": "EhN5R4hr8DC1"
      },
      "source": [
        "### Cleaning Data"
      ]
    },
    {
      "cell_type": "code",
      "source": [
        "#mengubah tipe data dteday\n",
        "\n",
        "datetime_columns = [\"dteday\"]\n",
        "\n",
        "for column in datetime_columns:\n",
        "    bike_df[column] = pd.to_datetime(bike_df[column])  #untuk mengubah tipe data ke datetime"
      ],
      "metadata": {
        "id": "6YuowEIFYyV4"
      },
      "execution_count": null,
      "outputs": []
    },
    {
      "cell_type": "code",
      "source": [
        "bike_df.info()"
      ],
      "metadata": {
        "id": "WS0bVYK-dRK8"
      },
      "execution_count": null,
      "outputs": []
    },
    {
      "cell_type": "markdown",
      "source": [],
      "metadata": {
        "id": "CZx0dcT12vH9"
      }
    },
    {
      "cell_type": "markdown",
      "metadata": {
        "id": "gp-Y6wU38DC1"
      },
      "source": [
        "## Exploratory Data Analysis (EDA)"
      ]
    },
    {
      "cell_type": "markdown",
      "metadata": {
        "id": "MW7WF2kr8DC1"
      },
      "source": [
        "### Explore ..."
      ]
    },
    {
      "cell_type": "code",
      "source": [
        "bike_df.groupby(by=\"dteday\").agg({\n",
        "    \"casual_hourly\" : \"sum\" ,\n",
        "    \"registered_hourly\" : \"sum\",\n",
        "    \"cnt_hourly\" : \"sum\"}).head()\n",
        "#sum hourly artinya total jam sehari (daily)"
      ],
      "metadata": {
        "id": "NyFWUZibgCGL"
      },
      "execution_count": null,
      "outputs": []
    },
    {
      "cell_type": "code",
      "source": [
        "bike_df.groupby(by=\"dteday\").agg({\n",
        "    \"cnt_hourly\" : \"sum\"}).head()"
      ],
      "metadata": {
        "id": "lCSgkOxrjHTd"
      },
      "execution_count": null,
      "outputs": []
    },
    {
      "cell_type": "code",
      "source": [
        "bike_df.groupby(by=\"weathersit_hourly\").agg({\n",
        "    \"cnt_hourly\" : \"sum\"\n",
        "}).head()"
      ],
      "metadata": {
        "id": "-GBnZHexdrWc"
      },
      "execution_count": null,
      "outputs": []
    },
    {
      "cell_type": "markdown",
      "metadata": {
        "id": "zsyZjqak8DC2"
      },
      "source": [
        "## Visualization & Explanatory Analysis"
      ]
    },
    {
      "cell_type": "markdown",
      "metadata": {
        "id": "HZxOiQ6n8DC2"
      },
      "source": [
        "### Pertanyaan 1:"
      ]
    },
    {
      "cell_type": "markdown",
      "source": [
        "# How does the weather affect bike rental?"
      ],
      "metadata": {
        "id": "TmeRi-p7fraX"
      }
    },
    {
      "cell_type": "code",
      "execution_count": null,
      "metadata": {
        "id": "1swJUdAD8DC2"
      },
      "outputs": [],
      "source": [
        "byweather_df = bike_df.groupby(by=\"weathersit_hourly\").cnt_hourly.sum().reset_index()\n",
        "byweather_df.weathersit_hourly.replace(1, \"Clear\", inplace=True)\n",
        "byweather_df.weathersit_hourly.replace(2, \"Cloudy\", inplace=True)\n",
        "byweather_df.weathersit_hourly.replace(3, \"Light rain\", inplace=True)\n",
        "byweather_df.weathersit_hourly.replace(4, \"Heavy rain\", inplace=True)\n",
        "\n",
        "byweather_df.rename(columns={\n",
        "    \"weathersit_hourly\": \"Weather\",\n",
        "    \"cnt_hourly\": \"Total_user\"\n",
        "}, inplace=True)\n",
        "\n",
        "byweather_df"
      ]
    },
    {
      "cell_type": "code",
      "source": [
        "plt.figure(figsize=(8, 4))\n",
        "\n",
        "sns.barplot(\n",
        "    y=\"Weather\",\n",
        "    x=\"Total_user\",\n",
        "    data=byweather_df.sort_values(by=\"Total_user\", ascending=False)\n",
        ")\n",
        "plt.title(\"Total Bike Rental by Weather\", loc=\"center\", fontsize=15)\n",
        "plt.xlabel(\"Average sharing\")\n",
        "plt.ylabel(\"Weather\")"
      ],
      "metadata": {
        "id": "S-FoFM4Zh4Hj"
      },
      "execution_count": null,
      "outputs": []
    },
    {
      "cell_type": "markdown",
      "metadata": {
        "id": "DgHI7CiU8DC2"
      },
      "source": [
        "### Pertanyaan 2:"
      ]
    },
    {
      "cell_type": "markdown",
      "source": [
        "#How does the performance of sharing bike rental in the last few months?"
      ],
      "metadata": {
        "id": "c6a3qSB3kfj1"
      }
    },
    {
      "cell_type": "code",
      "execution_count": null,
      "metadata": {
        "id": "Go0lCsvO8DC2"
      },
      "outputs": [],
      "source": [
        "monthly_sharing_df = bike_df.resample(rule='M', on='dteday').agg({\n",
        "    \"casual_hourly\": \"sum\",\n",
        "    \"registered_hourly\": \"sum\",\n",
        "    \"cnt_hourly\": \"sum\"\n",
        "})\n",
        "\n",
        "monthly_sharing_df.index = monthly_sharing_df.index.strftime('%Y-%m')\n",
        "monthly_sharing_df = monthly_sharing_df.reset_index()\n",
        "\n",
        "monthly_sharing_df.rename(columns={\n",
        "    \"dteday\": \"date_sharing\",\n",
        "    \"casual_hourly\": \"casual_user\",\n",
        "    \"registered_hourly\": \"registered_user\",\n",
        "    \"cnt_hourly\": \"total_user\"\n",
        "}, inplace=True)\n",
        "\n",
        "monthly_sharing_df"
      ]
    },
    {
      "cell_type": "code",
      "source": [
        "plt.figure(figsize=(20, 6))\n",
        "plt.plot(monthly_sharing_df[\"date_sharing\"], monthly_sharing_df[\"casual_user\"], marker='o', linewidth=2, color=\"#77BBAA\", label=\"casual user\")\n",
        "plt.plot(monthly_sharing_df[\"date_sharing\"], monthly_sharing_df[\"registered_user\"], marker='o', linewidth=2, color=\"#3366BB\", label=\"registered user\")\n",
        "plt.plot(monthly_sharing_df[\"date_sharing\"], monthly_sharing_df[\"total_user\"], marker='o', linewidth=2, color=\"#FF6633\", label=\"total user\")\n",
        "plt.title(\"Number of Bike Sharing per Month (2011-2012)\", loc=\"center\", fontsize=20)\n",
        "plt.xticks(fontsize=10)\n",
        "plt.yticks(fontsize=10)\n",
        "plt.legend()\n",
        "plt.show()"
      ],
      "metadata": {
        "id": "AoZBRJ9hpO01"
      },
      "execution_count": null,
      "outputs": []
    },
    {
      "cell_type": "code",
      "source": [
        "bike_df.to_csv(\"bike_df.csv\", index=False)"
      ],
      "metadata": {
        "id": "MM19Sgo_xFY1"
      },
      "execution_count": null,
      "outputs": []
    },
    {
      "cell_type": "markdown",
      "metadata": {
        "id": "_WeHlCeX8DC2"
      },
      "source": [
        "## Conclusion"
      ]
    },
    {
      "cell_type": "markdown",
      "metadata": {
        "id": "ZTcyR48Y8DC2"
      },
      "source": [
        "- Conclusion pertanyaan 1 \\\\\n",
        "How does the weather affect bike rental? \\\\\n",
        "The most high demand of rent bike occurs when the weather is sunny and the least occurs when it rains heavily.\n",
        "- Conclusion pertanyaan 2 \\\\\n",
        "How does the performance of bike rental in the last few months? \\\\\n",
        "As in the line chart above, the rental bike tends to increase. For casual users, the trend is relatively stagnant. Meanwhile, registered users increase relatively.\n",
        "\n"
      ]
    }
  ],
  "metadata": {
    "kernelspec": {
      "display_name": "Python 3",
      "language": "python",
      "name": "python3"
    },
    "language_info": {
      "name": "python",
      "version": "3.8.0 (tags/v3.8.0:fa919fd, Oct 14 2019, 19:21:23) [MSC v.1916 32 bit (Intel)]"
    },
    "orig_nbformat": 4,
    "vscode": {
      "interpreter": {
        "hash": "972b3bf27e332e87b5379f2791f6ef9dfc79c71018c370b0d7423235e20fe4d7"
      }
    },
    "colab": {
      "provenance": []
    }
  },
  "nbformat": 4,
  "nbformat_minor": 0
}